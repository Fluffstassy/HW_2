{
  "nbformat": 4,
  "nbformat_minor": 0,
  "metadata": {
    "colab": {
      "provenance": [],
      "collapsed_sections": [],
      "authorship_tag": "ABX9TyNgM2sJvEa4xsL9h8DpZHCo",
      "include_colab_link": true
    },
    "kernelspec": {
      "name": "python3",
      "display_name": "Python 3"
    },
    "language_info": {
      "name": "python"
    }
  },
  "cells": [
    {
      "cell_type": "markdown",
      "metadata": {
        "id": "view-in-github",
        "colab_type": "text"
      },
      "source": [
        "<a href=\"https://colab.research.google.com/github/Fluffstassy/HW_2/blob/main/PukhovaHW2.ipynb\" target=\"_parent\"><img src=\"https://colab.research.google.com/assets/colab-badge.svg\" alt=\"Open In Colab\"/></a>"
      ]
    },
    {
      "cell_type": "markdown",
      "source": [],
      "metadata": {
        "id": "yEhn72Gnlvwb"
      }
    },
    {
      "cell_type": "markdown",
      "source": [
        "# Задание 1\n",
        "Дана переменная, в которой хранится слово из латинских букв. Напишите код, который выводит на экран:\n",
        "\n",
        "среднюю букву, если число букв в слове нечетное;\n",
        "\n",
        "две средних буквы, если число букв четное."
      ],
      "metadata": {
        "id": "QpH5jASlmLgi"
      }
    },
    {
      "cell_type": "code",
      "source": [
        "word = input('Введите слово: ')\n",
        "length = len(word)\n",
        "if length % 2 == 0:\n",
        "    print(word[int(length / 2 - 1) : int(length/ 2 + 1)])\n",
        "else:\n",
        "    print(word[int(length / 2)])"
      ],
      "metadata": {
        "id": "cMalYVa4mNka"
      },
      "execution_count": null,
      "outputs": []
    },
    {
      "cell_type": "markdown",
      "source": [
        "# Задание 2\n",
        "Напишите программу, которая последовательно запрашивает у пользователя числа (по одному за раз) и после первого нуля выводит сумму всех ранее введенных чисел."
      ],
      "metadata": {
        "id": "E9M8Rzb2oWyd"
      }
    },
    {
      "cell_type": "code",
      "source": [
        "number = int(input('Введите число: '))\n",
        "sum = 0\n",
        "while number != 0:\n",
        "    number = int(input('Введите число: '))\n",
        "    sum = sum + number\n",
        "print('Результат: ', sum)"
      ],
      "metadata": {
        "id": "qGvNky8woYmV"
      },
      "execution_count": null,
      "outputs": []
    },
    {
      "cell_type": "markdown",
      "source": [
        "# Задание 3\n",
        "Мы делаем MVP dating-сервиса, и у нас есть список парней и девушек.\n",
        "Выдвигаем гипотезу: лучшие рекомендации мы получим, если просто отсортируем имена по алфавиту и познакомим людей с одинаковыми индексами после сортировки! Но мы не будем никого знакомить, если кто-то может остаться без пары"
      ],
      "metadata": {
        "id": "RZRuizFgoYzj"
      }
    },
    {
      "cell_type": "code",
      "source": [
        "import copy\n",
        "index = 0\n",
        "boys = ['Peter', 'Alex', 'John', 'Arthur', 'Richard']\n",
        "girls = ['Kate', 'Liza', 'Kira', 'Emma', 'Trisha']\n",
        "if len(boys) != len(girls):\n",
        "    print('Внимание, кто-то может остаться без пары!')\n",
        "else:\n",
        "    boys_sorted = sorted(boys)\n",
        "    girls_sorted = sorted(girls)\n",
        "    print('Идеальные пары:')\n",
        "    while index < len(boys_sorted):\n",
        "        print(boys_sorted[index],'and',girls_sorted[index] )\n",
        "        index = index + 1"
      ],
      "metadata": {
        "id": "sGOh34qxoaZj"
      },
      "execution_count": null,
      "outputs": []
    },
    {
      "cell_type": "markdown",
      "source": [
        "# Задание 4\n",
        "У нас есть список, содержащий информацию о среднедневной температуре в Фаренгейтах за произвольный период по странам (структура данных в примере). Необходимо написать код, который рассчитает среднюю температуру за период в Цельсиях(!) для каждой страны."
      ],
      "metadata": {
        "id": "TE_wjWafoaoq"
      }
    },
    {
      "cell_type": "code",
      "source": [
        "import math\n",
        "index = 0\n",
        "countries_temperature = [\n",
        "    ['Thailand', [75.2, 77, 78.8, 73.4, 68, 75.2, 77]],\n",
        "    ['Germany', [57.2, 55.4, 59, 59, 53.6]],\n",
        "    ['Russia', [35.6, 37.4, 39.2, 41, 42.8, 39.2, 35.6]],\n",
        "    ['Poland', [50, 50, 53.6, 57.2, 55.4, 55.4]]]\n",
        "while index < len(countries_temperature):\n",
        "    celsius = countries_temperature[index][1]\n",
        "    print(countries_temperature[index][0],'-', round((math.fsum(celsius) / len(celsius) - 32) / 1.8, 2),'C')\n",
        "    index = index + 1"
      ],
      "metadata": {
        "id": "JwFuj6wsu9yr"
      },
      "execution_count": null,
      "outputs": []
    }
  ]
}